{
  "nbformat": 4,
  "nbformat_minor": 0,
  "metadata": {
    "colab": {
      "provenance": [],
      "authorship_tag": "ABX9TyN7IMW8HyVzBBL/K2HyfdBj",
      "include_colab_link": true
    },
    "kernelspec": {
      "name": "python3",
      "display_name": "Python 3"
    },
    "language_info": {
      "name": "python"
    }
  },
  "cells": [
    {
      "cell_type": "markdown",
      "metadata": {
        "id": "view-in-github",
        "colab_type": "text"
      },
      "source": [
        "<a href=\"https://colab.research.google.com/github/HHHsuan/Introduction-to-Computers/blob/main/0517.ipynb\" target=\"_parent\"><img src=\"https://colab.research.google.com/assets/colab-badge.svg\" alt=\"Open In Colab\"/></a>"
      ]
    },
    {
      "cell_type": "code",
      "execution_count": null,
      "metadata": {
        "colab": {
          "base_uri": "https://localhost:8080/"
        },
        "id": "VFBxtzW64XjN",
        "outputId": "86f38f7c-7753-41b6-fe2e-b72ebd07cf70"
      },
      "outputs": [
        {
          "output_type": "stream",
          "name": "stdout",
          "text": [
            "0517\n"
          ]
        }
      ],
      "source": [
        "print(\"0517\")"
      ]
    },
    {
      "cell_type": "code",
      "source": [
        "score=int(input(\"score:\"))\n",
        "if score>=90:\n",
        "  print('Grade is:A')\n",
        "else:\n",
        "  print('Grade is:F')"
      ],
      "metadata": {
        "colab": {
          "base_uri": "https://localhost:8080/"
        },
        "id": "B2DeOxs84pia",
        "outputId": "e35d7a1e-7f4c-4cce-b4cd-dbd740296655"
      },
      "execution_count": null,
      "outputs": [
        {
          "output_type": "stream",
          "name": "stdout",
          "text": [
            "score:90\n",
            "Grade is:A\n"
          ]
        }
      ]
    },
    {
      "cell_type": "code",
      "source": [
        "score=int(input(\"score:\"))\n",
        "if score>=90:\n",
        "  print('Grade is:A')\n",
        "else:\n",
        "  print('Grade is:F')"
      ],
      "metadata": {
        "colab": {
          "base_uri": "https://localhost:8080/"
        },
        "id": "jaJ91_6753EA",
        "outputId": "c57e5a28-c077-4e89-b720-fdcb600f7294"
      },
      "execution_count": null,
      "outputs": [
        {
          "output_type": "stream",
          "name": "stdout",
          "text": [
            "score:70\n",
            "Grade is:F\n"
          ]
        }
      ]
    },
    {
      "cell_type": "code",
      "source": [
        "score=int(input(\"score:\"))\n",
        "if score >=90:\n",
        "  print('Grade is: A')\n",
        "elif score>=80:\n",
        "  print('Grade is: B')\n",
        "elif score>=70:\n",
        "  print('Grade is: C')\n",
        "elif score>=60:\n",
        "  print('Grade is: D')\n",
        "else:\n",
        "  print('Grade is: F')"
      ],
      "metadata": {
        "colab": {
          "base_uri": "https://localhost:8080/"
        },
        "id": "3hF83bZ66Ph6",
        "outputId": "587addae-17e4-4efa-dd19-792688e64def"
      },
      "execution_count": null,
      "outputs": [
        {
          "output_type": "stream",
          "name": "stdout",
          "text": [
            "score:70\n",
            "Grade is: C\n"
          ]
        }
      ]
    },
    {
      "cell_type": "code",
      "source": [
        "temperature=float(input(\"temperature:\"))\n",
        "if temperature>=37.5:\n",
        "  print(\"體溫過高!\")\n",
        "elif temperature>=37 and temperature<=37.4:\n",
        "  print(\"體溫略高!\")\n",
        "elif temperature>=34 and temperature<=36.9:\n",
        "  print(\"體溫正常!\")\n",
        "else:\n",
        "  print(\"體溫異常,請重新量測!\")\n"
      ],
      "metadata": {
        "colab": {
          "base_uri": "https://localhost:8080/"
        },
        "id": "tzzYmlxT7R8n",
        "outputId": "a7138a2e-a9f0-43d3-8447-a3a50cb2a4b0"
      },
      "execution_count": 10,
      "outputs": [
        {
          "output_type": "stream",
          "name": "stdout",
          "text": [
            "temperature:36\n",
            "體溫正常!\n"
          ]
        }
      ]
    },
    {
      "cell_type": "code",
      "source": [
        "month=int(input(\"請輸入月份:\"))\n",
        "if month>=3 and month<=5:\n",
        "  print(\"是春天\")\n",
        "elif month>=6 and month<=8:\n",
        "  print(\"是夏天\")\n",
        "elif month>=9 and month<=11:\n",
        "  print(\"是秋天\")\n",
        "elif month==12 and month<=2:\n",
        "  print(\"是冬天\")\n",
        "else:\n",
        "  print(\"月份不再範圍內!\")"
      ],
      "metadata": {
        "id": "z4RyH4C18ZfH",
        "colab": {
          "base_uri": "https://localhost:8080/"
        },
        "outputId": "491011b7-242b-4cce-df01-52a8234d952a"
      },
      "execution_count": 11,
      "outputs": [
        {
          "output_type": "stream",
          "name": "stdout",
          "text": [
            "請輸入月份:6\n",
            "是夏天\n"
          ]
        }
      ]
    },
    {
      "cell_type": "code",
      "source": [
        "t=int(input(\"請輸入今年收入淨額\"))\n",
        "if t>=2000000:\n",
        "  print(\"付稅金額:\",t*0.3,\"元\")\n",
        "elif t>=1000000 and t<2000000:\n",
        "  print(\"付稅金額:\",t*0.21,\"元\")\n",
        "elif t>=600000 and t<100000:\n",
        "  print(\"付稅金額:\",t*0.13,\"元\")\n",
        "elif t>=300000 and t<600000:\n",
        "  print(\"付稅金額:\",t*0.06,\"元\")\n",
        "else:\n",
        "  print(\"付稅金額:0元\")"
      ],
      "metadata": {
        "colab": {
          "base_uri": "https://localhost:8080/"
        },
        "id": "hd5WlMH_Dhga",
        "outputId": "d694df61-b8fc-4ba4-a485-25c40efb8cf7"
      },
      "execution_count": 14,
      "outputs": [
        {
          "output_type": "stream",
          "name": "stdout",
          "text": [
            "請輸入今年收入淨額200000\n",
            "付稅金額:0元\n"
          ]
        }
      ]
    },
    {
      "cell_type": "code",
      "source": [
        "score= int(input(\"請輸入成績\"))\n",
        "if score >=90:\n",
        "  print('A')\n",
        "elif score >=80:\n",
        "  print('B')\n",
        "elif score >=70:\n",
        "  print('C')\n",
        "elif score >=60:\n",
        "  print('D')\n",
        "else:\n",
        "  print('E')"
      ],
      "metadata": {
        "colab": {
          "base_uri": "https://localhost:8080/"
        },
        "id": "m-lc7axiG-9S",
        "outputId": "9ed4aef4-ee50-4652-bd0e-46a8c9acf5c5"
      },
      "execution_count": 16,
      "outputs": [
        {
          "output_type": "stream",
          "name": "stdout",
          "text": [
            "請輸入成績100\n",
            "A\n"
          ]
        }
      ]
    }
  ]
}