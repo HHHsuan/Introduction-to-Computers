{
  "nbformat": 4,
  "nbformat_minor": 0,
  "metadata": {
    "colab": {
      "provenance": [],
      "authorship_tag": "ABX9TyPiAHFWaT3rINa0rUJ1G9vt",
      "include_colab_link": true
    },
    "kernelspec": {
      "name": "python3",
      "display_name": "Python 3"
    },
    "language_info": {
      "name": "python"
    }
  },
  "cells": [
    {
      "cell_type": "markdown",
      "metadata": {
        "id": "view-in-github",
        "colab_type": "text"
      },
      "source": [
        "<a href=\"https://colab.research.google.com/github/HHHsuan/Introduction-to-Computers/blob/main/0512.ipynb\" target=\"_parent\"><img src=\"https://colab.research.google.com/assets/colab-badge.svg\" alt=\"Open In Colab\"/></a>"
      ]
    },
    {
      "cell_type": "code",
      "execution_count": null,
      "metadata": {
        "colab": {
          "base_uri": "https://localhost:8080/"
        },
        "id": "0kxhEwN12TiH",
        "outputId": "25edd41c-7f7f-4a44-fff6-fe8a955047c8"
      },
      "outputs": [
        {
          "output_type": "stream",
          "name": "stdout",
          "text": [
            "請輸入整數:43\n",
            "奇數\n",
            "Bye!!\n"
          ]
        }
      ],
      "source": [
        "num=int(input(\"請輸入整數:\"))\n",
        "if num % 2== 0:\n",
        "    print(\"偶數\")\n",
        "else:\n",
        "    print(\"奇數\")\n",
        "print(\"Bye!!\")"
      ]
    },
    {
      "cell_type": "code",
      "source": [
        "age=int(input(\"請輸入您的年齡:\"))\n",
        "if age<18:\n",
        "  print(\"未成年人\")\n",
        "elif age>=18 and age <=65:\n",
        "  print(\"成年人\")\n",
        "else:\n",
        "  print(\"老年人\")"
      ],
      "metadata": {
        "colab": {
          "base_uri": "https://localhost:8080/"
        },
        "id": "8YydZBIZ3Ngk",
        "outputId": "17b3629e-0827-46b2-aeb8-1caf70d5334d"
      },
      "execution_count": null,
      "outputs": [
        {
          "output_type": "stream",
          "name": "stdout",
          "text": [
            "請輸入您的年齡:65\n",
            "成年人\n"
          ]
        }
      ]
    },
    {
      "cell_type": "code",
      "source": [
        "month=int(input(\"請輸入月份:\"))\n",
        "if month>=1 and month<=3:\n",
        "  print(\"春季\")\n",
        "elif month>=4 and month<=6:\n",
        "  print(\"夏季\")\n",
        "elif month>=7 and month<=9:\n",
        "  print(\"秋季\")\n",
        "elif month>=10 and month<=12:\n",
        "  print(\"冬季\")\n",
        "else:\n",
        "  print(\"無效月份\")"
      ],
      "metadata": {
        "colab": {
          "base_uri": "https://localhost:8080/"
        },
        "id": "DLgcu1XH4KX0",
        "outputId": "53ad30ac-5d70-45c4-f183-0c60630a048e"
      },
      "execution_count": null,
      "outputs": [
        {
          "output_type": "stream",
          "name": "stdout",
          "text": [
            "請輸入月份:5\n",
            "夏季\n"
          ]
        }
      ]
    }
  ]
}