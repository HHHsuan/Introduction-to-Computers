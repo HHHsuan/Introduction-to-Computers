{
  "nbformat": 4,
  "nbformat_minor": 0,
  "metadata": {
    "colab": {
      "provenance": [],
      "authorship_tag": "ABX9TyPgkjdlRf6DOLfeEf9ZjhCI",
      "include_colab_link": true
    },
    "kernelspec": {
      "name": "python3",
      "display_name": "Python 3"
    },
    "language_info": {
      "name": "python"
    }
  },
  "cells": [
    {
      "cell_type": "markdown",
      "metadata": {
        "id": "view-in-github",
        "colab_type": "text"
      },
      "source": [
        "<a href=\"https://colab.research.google.com/github/HHHsuan/Introduction-to-Computers/blob/main/0526.ipynb\" target=\"_parent\"><img src=\"https://colab.research.google.com/assets/colab-badge.svg\" alt=\"Open In Colab\"/></a>"
      ]
    },
    {
      "cell_type": "code",
      "execution_count": 1,
      "metadata": {
        "colab": {
          "base_uri": "https://localhost:8080/"
        },
        "id": "4XNaR9mW9Pqr",
        "outputId": "ef6b1c5a-e30a-4bbb-e9fc-4b50248a6a59"
      },
      "outputs": [
        {
          "output_type": "stream",
          "name": "stdout",
          "text": [
            "請輸入一個正整數:13\n",
            "1 2 3 4 5 6 7 8 9 10 11 12 13 "
          ]
        }
      ],
      "source": [
        "num=int(input(\"請輸入一個正整數:\"))\n",
        "for i in range(1,num+1):\n",
        "  print(i, end=' ')"
      ]
    },
    {
      "cell_type": "code",
      "source": [
        "x=42\n",
        "y=24\n",
        "print(\"這是兩個整數: %d 和 %d\" % (x,y))"
      ],
      "metadata": {
        "colab": {
          "base_uri": "https://localhost:8080/"
        },
        "id": "KscbU5oI-OuC",
        "outputId": "c48e35c8-2753-47e6-ed0f-4b0481678ab3"
      },
      "execution_count": 2,
      "outputs": [
        {
          "output_type": "stream",
          "name": "stdout",
          "text": [
            "這是兩個整數: 42 和 24\n"
          ]
        }
      ]
    },
    {
      "cell_type": "code",
      "source": [
        "n=int(input(\"請輸入一個正整數:\"))\n",
        "for i in range(1,n+1):\n",
        "  p_sum=sum(range(1,i+1))\n",
        "  print(\"1到%d的總合為: %d\" % (i, p_sum))"
      ],
      "metadata": {
        "colab": {
          "base_uri": "https://localhost:8080/"
        },
        "id": "st6ZVUmG-qEq",
        "outputId": "bb2ec7b4-4f35-4dd7-8785-f647cca687d3"
      },
      "execution_count": 10,
      "outputs": [
        {
          "output_type": "stream",
          "name": "stdout",
          "text": [
            "請輸入一個正整數:8\n",
            "1到1的總合為: 1\n",
            "1到2的總合為: 3\n",
            "1到3的總合為: 6\n",
            "1到4的總合為: 10\n",
            "1到5的總合為: 15\n",
            "1到6的總合為: 21\n",
            "1到7的總合為: 28\n",
            "1到8的總合為: 36\n"
          ]
        }
      ]
    },
    {
      "cell_type": "code",
      "source": [
        "#偶數字串大寫\n",
        "a=input(\"請輸入字串:\")\n",
        "for i in range(len(a)):\n",
        "  if(i % 2!=0):\n",
        "    print(a[i].upper(),end='')\n",
        "  else:\n",
        "    print(a[i].lower(),end='')"
      ],
      "metadata": {
        "colab": {
          "base_uri": "https://localhost:8080/"
        },
        "id": "Zxg3_XN8_bxl",
        "outputId": "4be57601-8c69-4ed9-cc10-2812042d9df9"
      },
      "execution_count": 5,
      "outputs": [
        {
          "output_type": "stream",
          "name": "stdout",
          "text": [
            "請輸入字串:panda\n",
            "pAnDa"
          ]
        }
      ]
    },
    {
      "cell_type": "code",
      "source": [
        "n=int(input(\"請輸入整數:\"))\n",
        "for i in range(1,n+1):\n",
        "  for j in range(i):\n",
        "    print(\"*\",end=\" \")\n",
        "  print()  "
      ],
      "metadata": {
        "colab": {
          "base_uri": "https://localhost:8080/"
        },
        "id": "OFmoTlxKAdwL",
        "outputId": "7fecd04f-7c35-4121-e811-cd1afe8381a0"
      },
      "execution_count": 6,
      "outputs": [
        {
          "output_type": "stream",
          "name": "stdout",
          "text": [
            "請輸入整數:5\n",
            "* \n",
            "* * \n",
            "* * * \n",
            "* * * * \n",
            "* * * * * \n"
          ]
        }
      ]
    },
    {
      "cell_type": "code",
      "source": [
        "n= int(input(\"請輸入整數:\"))\n",
        "for i in range(1,n+1):\n",
        "  for j in range(i):\n",
        "    print(j+1,end=\" \")\n",
        "  print()"
      ],
      "metadata": {
        "colab": {
          "base_uri": "https://localhost:8080/"
        },
        "id": "_rjuDzZoBale",
        "outputId": "f940cbf9-a40b-4ca8-efd7-0792c8b18803"
      },
      "execution_count": 9,
      "outputs": [
        {
          "output_type": "stream",
          "name": "stdout",
          "text": [
            "請輸入整數:5\n",
            "1 \n",
            "1 2 \n",
            "1 2 3 \n",
            "1 2 3 4 \n",
            "1 2 3 4 5 \n"
          ]
        }
      ]
    }
  ]
}